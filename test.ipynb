{
 "cells": [
  {
   "attachments": {},
   "cell_type": "markdown",
   "metadata": {},
   "source": [
    "# Streaming process mining with `pyBeamline`"
   ]
  },
  {
   "attachments": {},
   "cell_type": "markdown",
   "metadata": {},
   "source": [
    "`pyBeamline` is a Python version of Beamline. While the same set of ideas and principles of Beamline have been ported into `pyBeamline`, the underlying goal and technology is very different.\n",
    "\n",
    "pyBeamline is based on ReactiveX and its Python binding RxPY. RxPY is a library for composing asynchronous and event-based programs using observable sequences and pipable query operators in Python. Using pyBeamline it is possible to inject process mining operators into the computation.\n",
    "\n",
    "This Jupyter notebook contains the main functionalities currently exposed by `pyBeamline`. For a complete documentation of the library see https://www.beamline.cloud/pybeamline/. In the rest of the notebook it is assumed that the `pyBeamline` package is already installed.\n",
    "\n",
    "In the rest of this document, the main functionalities are exposed."
   ]
  },
  {
   "attachments": {},
   "cell_type": "markdown",
   "metadata": {},
   "source": [
    "### Sources"
   ]
  },
  {
   "cell_type": "code",
   "execution_count": 13,
   "metadata": {},
   "outputs": [],
   "source": [
    "# Let's ignore some PM4PY warnings in the notebook\n",
    "import warnings\n",
    "warnings.filterwarnings(\"ignore\")"
   ]
  },
  {
   "cell_type": "code",
   "execution_count": 14,
   "metadata": {},
   "outputs": [
    {
     "name": "stdout",
     "output_type": "stream",
     "text": [
      "(A, case_1, Process, 2023-06-21 09:38:33.265476 - {} - {} - {})\n",
      "(B, case_1, Process, 2023-06-21 09:38:33.265476 - {} - {} - {})\n",
      "(C, case_1, Process, 2023-06-21 09:38:33.265476 - {} - {} - {})\n",
      "(A, case_2, Process, 2023-06-21 09:38:33.265476 - {} - {} - {})\n",
      "(C, case_2, Process, 2023-06-21 09:38:33.265476 - {} - {} - {})\n",
      "(B, case_2, Process, 2023-06-21 09:38:33.265476 - {} - {} - {})\n",
      "(E, case_3, Process, 2023-06-21 09:38:33.265476 - {} - {} - {})\n",
      "(F, case_3, Process, 2023-06-21 09:38:33.265476 - {} - {} - {})\n",
      "(G, case_3, Process, 2023-06-21 09:38:33.265476 - {} - {} - {})\n"
     ]
    },
    {
     "data": {
      "text/plain": [
       "<reactivex.disposable.disposable.Disposable at 0x173527f59a0>"
      ]
     },
     "execution_count": 14,
     "metadata": {},
     "output_type": "execute_result"
    }
   ],
   "source": [
    "from pybeamline.sources import string_test_source\n",
    "\n",
    "string_test_source([\"ABC\", \"ACB\", \"EFG\"]) \\\n",
    "    .subscribe(lambda x: print(str(x)))"
   ]
  },
  {
   "cell_type": "code",
   "execution_count": 15,
   "metadata": {},
   "outputs": [
    {
     "name": "stderr",
     "output_type": "stream",
     "text": [
      "parsing log, completed traces :: 100%|██████████| 2/2 [00:00<00:00, 908.74it/s]"
     ]
    },
    {
     "name": "stdout",
     "output_type": "stream",
     "text": [
      "(a11, c1, log-file, 2023-06-21 09:38:35.571279 - {'lifecycle:transition': 'complete', 'act': 'a11'} - {'variant': 'Variant 1', 'creator': 'Fluxicon Disco', 'variant-index': 1} - {})\n",
      "(a12, c1, log-file, 2023-06-21 09:38:35.572279 - {'lifecycle:transition': 'complete', 'act': 'a12'} - {'variant': 'Variant 1', 'creator': 'Fluxicon Disco', 'variant-index': 1} - {})\n",
      "(a21, c2, log-file, 2023-06-21 09:38:35.572279 - {'lifecycle:transition': 'complete', 'act': 'a21'} - {'variant': 'Variant 2', 'creator': 'Fluxicon Disco', 'variant-index': 2} - {})\n",
      "(a22, c2, log-file, 2023-06-21 09:38:35.572279 - {'lifecycle:transition': 'complete', 'act': 'a22'} - {'variant': 'Variant 2', 'creator': 'Fluxicon Disco', 'variant-index': 2} - {})\n",
      "(a23, c2, log-file, 2023-06-21 09:38:35.572279 - {'lifecycle:transition': 'complete', 'act': 'a23'} - {'variant': 'Variant 2', 'creator': 'Fluxicon Disco', 'variant-index': 2} - {})\n"
     ]
    },
    {
     "name": "stderr",
     "output_type": "stream",
     "text": [
      "\n"
     ]
    },
    {
     "data": {
      "text/plain": [
       "<reactivex.disposable.disposable.Disposable at 0x173528457c0>"
      ]
     },
     "execution_count": 15,
     "metadata": {},
     "output_type": "execute_result"
    }
   ],
   "source": [
    "from pybeamline.sources import xes_log_source_from_file\n",
    "\n",
    "xes_log_source_from_file(\"tests/log.xes\") \\\n",
    "    .subscribe(lambda x: print(str(x)))"
   ]
  },
  {
   "cell_type": "code",
   "execution_count": 16,
   "metadata": {},
   "outputs": [
    {
     "name": "stdout",
     "output_type": "stream",
     "text": [
      "(A, case_1, Process, 2023-06-21 09:38:39.484791 - {} - {} - {})\n",
      "(B, case_1, Process, 2023-06-21 09:38:39.484791 - {} - {} - {})\n",
      "(C, case_1, Process, 2023-06-21 09:38:39.484791 - {} - {} - {})\n",
      "(A, case_2, Process, 2023-06-21 09:38:39.484791 - {} - {} - {})\n",
      "(C, case_2, Process, 2023-06-21 09:38:39.484791 - {} - {} - {})\n",
      "(B, case_2, Process, 2023-06-21 09:38:39.484791 - {} - {} - {})\n",
      "(E, case_3, Process, 2023-06-21 09:38:39.484791 - {} - {} - {})\n",
      "(F, case_3, Process, 2023-06-21 09:38:39.484791 - {} - {} - {})\n",
      "(G, case_3, Process, 2023-06-21 09:38:39.484791 - {} - {} - {})\n"
     ]
    },
    {
     "name": "stderr",
     "output_type": "stream",
     "text": [
      "parsing log, completed traces :: 100%|██████████| 2/2 [00:00<00:00, 7973.96it/s]"
     ]
    },
    {
     "name": "stdout",
     "output_type": "stream",
     "text": [
      "(a11, c1, log-file, 2023-06-21 09:38:39.491467 - {'lifecycle:transition': 'complete', 'act': 'a11'} - {'variant': 'Variant 1', 'creator': 'Fluxicon Disco', 'variant-index': 1} - {})\n",
      "(a12, c1, log-file, 2023-06-21 09:38:39.492473 - {'lifecycle:transition': 'complete', 'act': 'a12'} - {'variant': 'Variant 1', 'creator': 'Fluxicon Disco', 'variant-index': 1} - {})\n",
      "(a21, c2, log-file, 2023-06-21 09:38:39.492473 - {'lifecycle:transition': 'complete', 'act': 'a21'} - {'variant': 'Variant 2', 'creator': 'Fluxicon Disco', 'variant-index': 2} - {})\n",
      "(a22, c2, log-file, 2023-06-21 09:38:39.492473 - {'lifecycle:transition': 'complete', 'act': 'a22'} - {'variant': 'Variant 2', 'creator': 'Fluxicon Disco', 'variant-index': 2} - {})\n",
      "(a23, c2, log-file, 2023-06-21 09:38:39.492473 - {'lifecycle:transition': 'complete', 'act': 'a23'} - {'variant': 'Variant 2', 'creator': 'Fluxicon Disco', 'variant-index': 2} - {})\n"
     ]
    },
    {
     "name": "stderr",
     "output_type": "stream",
     "text": [
      "\n"
     ]
    },
    {
     "data": {
      "text/plain": [
       "<reactivex.disposable.disposable.Disposable at 0x17352845340>"
      ]
     },
     "execution_count": 16,
     "metadata": {},
     "output_type": "execute_result"
    }
   ],
   "source": [
    "from pybeamline.sources import log_source\n",
    "\n",
    "log_source([\"ABC\", \"ACB\", \"EFG\"]) \\\n",
    "    .subscribe(lambda x: print(str(x)))\n",
    "\n",
    "log_source(\"tests/log.xes\") \\\n",
    "    .subscribe(lambda x: print(str(x)))"
   ]
  },
  {
   "attachments": {},
   "cell_type": "markdown",
   "metadata": {},
   "source": [
    "### Filters"
   ]
  },
  {
   "cell_type": "code",
   "execution_count": 34,
   "metadata": {},
   "outputs": [
    {
     "name": "stderr",
     "output_type": "stream",
     "text": [
      "parsing log, completed traces :: 100%|██████████| 2/2 [00:00<00:00, 1849.34it/s]"
     ]
    },
    {
     "name": "stdout",
     "output_type": "stream",
     "text": [
      "(a12, c1, log-file, 2023-06-21 09:40:46.263579 - {'lifecycle:transition': 'complete', 'act': 'a12'} - {'variant': 'Variant 1', 'creator': 'Fluxicon Disco', 'variant-index': 1} - {})\n",
      "(a21, c2, log-file, 2023-06-21 09:40:46.264566 - {'lifecycle:transition': 'complete', 'act': 'a21'} - {'variant': 'Variant 2', 'creator': 'Fluxicon Disco', 'variant-index': 2} - {})\n",
      "(a22, c2, log-file, 2023-06-21 09:40:46.265082 - {'lifecycle:transition': 'complete', 'act': 'a22'} - {'variant': 'Variant 2', 'creator': 'Fluxicon Disco', 'variant-index': 2} - {})\n",
      "(a23, c2, log-file, 2023-06-21 09:40:46.265082 - {'lifecycle:transition': 'complete', 'act': 'a23'} - {'variant': 'Variant 2', 'creator': 'Fluxicon Disco', 'variant-index': 2} - {})\n"
     ]
    },
    {
     "name": "stderr",
     "output_type": "stream",
     "text": [
      "\n"
     ]
    },
    {
     "data": {
      "text/plain": [
       "<reactivex.disposable.disposable.Disposable at 0x173521178b0>"
      ]
     },
     "execution_count": 34,
     "metadata": {},
     "output_type": "execute_result"
    }
   ],
   "source": [
    "from pybeamline.sources import log_source\n",
    "from pybeamline.filters import excludes_activity_filter\n",
    "\n",
    "log_source(\"tests/log.xes\").pipe(\n",
    "    excludes_activity_filter(\"a11\"),\n",
    ").subscribe(lambda x: print(str(x)))\n",
    "\n",
    "# Similar functionalities for these filters:\n",
    "# - excludes_on_event_attribute_equal_filter\n",
    "# - retains_on_trace_attribute_equal_filter\n",
    "# - excludes_on_trace_attribute_equal_filter\n",
    "# - retains_activity_filter\n",
    "# - excludes_activity_filter\n"
   ]
  },
  {
   "attachments": {},
   "cell_type": "markdown",
   "metadata": {},
   "source": [
    "### Discovery techniques"
   ]
  },
  {
   "attachments": {},
   "cell_type": "markdown",
   "metadata": {},
   "source": [
    "Mining of directly-follows relations:"
   ]
  },
  {
   "cell_type": "code",
   "execution_count": 40,
   "metadata": {},
   "outputs": [
    {
     "name": "stdout",
     "output_type": "stream",
     "text": [
      "('A', 'B')\n",
      "('B', 'C')\n",
      "('A', 'C')\n",
      "('C', 'B')\n"
     ]
    },
    {
     "data": {
      "text/plain": [
       "<reactivex.disposable.disposable.Disposable at 0x173529a5b80>"
      ]
     },
     "execution_count": 40,
     "metadata": {},
     "output_type": "execute_result"
    }
   ],
   "source": [
    "from pybeamline.sources import log_source\n",
    "from pybeamline.mappers import infinite_size_directly_follows_mapper\n",
    "\n",
    "log_source([\"ABC\", \"ACB\"]).pipe(\n",
    "    infinite_size_directly_follows_mapper()\n",
    ").subscribe(lambda x: print(str(x)))"
   ]
  },
  {
   "attachments": {},
   "cell_type": "markdown",
   "metadata": {},
   "source": [
    "Mining of a Heuristics net using Lossy Counting:"
   ]
  },
  {
   "cell_type": "code",
   "execution_count": 43,
   "metadata": {},
   "outputs": [
    {
     "name": "stdout",
     "output_type": "stream",
     "text": [
      "{'A': (node:A connections:{B:[0.5]}), 'B': (node:B connections:{C:[0.5]}), 'C': (node:C connections:{})}\n",
      "{'C': (node:C connections:{D:[0.5]}), 'D': (node:D connections:{}), 'A': (node:A connections:{B:[0.6666666666666666]}), 'B': (node:B connections:{C:[0.6666666666666666]})}\n"
     ]
    },
    {
     "data": {
      "text/plain": [
       "<reactivex.disposable.disposable.Disposable at 0x173521cfbb0>"
      ]
     },
     "execution_count": 43,
     "metadata": {},
     "output_type": "execute_result"
    }
   ],
   "source": [
    "from pybeamline.algorithms.discovery import heuristics_miner_lossy_counting\n",
    "\n",
    "log_source([\"ABCD\", \"ABCD\"]).pipe(\n",
    "    heuristics_miner_lossy_counting(model_update_frequency=4)\n",
    ").subscribe(lambda x: print(str(x)))"
   ]
  },
  {
   "attachments": {},
   "cell_type": "markdown",
   "metadata": {},
   "source": [
    "Mining of a Heuristics net using Lossy Counting with Budget:"
   ]
  },
  {
   "cell_type": "code",
   "execution_count": 44,
   "metadata": {},
   "outputs": [
    {
     "name": "stdout",
     "output_type": "stream",
     "text": [
      "{'A': (node:A connections:{B:[0.5]}), 'B': (node:B connections:{C:[0.5]}), 'C': (node:C connections:{D:[0.5]}), 'D': (node:D connections:{})}\n",
      "{'A': (node:A connections:{B:[0.6666666666666666]}), 'B': (node:B connections:{C:[0.6666666666666666]}), 'C': (node:C connections:{D:[0.6666666666666666]}), 'D': (node:D connections:{})}\n"
     ]
    },
    {
     "data": {
      "text/plain": [
       "<reactivex.disposable.disposable.Disposable at 0x173521cfd60>"
      ]
     },
     "execution_count": 44,
     "metadata": {},
     "output_type": "execute_result"
    }
   ],
   "source": [
    "from pybeamline.algorithms.discovery import heuristics_miner_lossy_counting_budget\n",
    "\n",
    "log_source([\"ABCD\", \"ABCD\"]).pipe(\n",
    "    heuristics_miner_lossy_counting_budget(model_update_frequency=4)\n",
    ").subscribe(lambda x: print(str(x)))"
   ]
  },
  {
   "attachments": {},
   "cell_type": "markdown",
   "metadata": {},
   "source": [
    "### Conformance checking"
   ]
  },
  {
   "attachments": {},
   "cell_type": "markdown",
   "metadata": {},
   "source": [
    "Currently only conformance checking using behavioral profiles is supported:"
   ]
  },
  {
   "cell_type": "code",
   "execution_count": 49,
   "metadata": {},
   "outputs": [
    {
     "name": "stdout",
     "output_type": "stream",
     "text": [
      "([('A', 'B'), ('B', 'C'), ('C', 'D')], {('A', 'B'): (0, 0), ('B', 'C'): (1, 1), ('C', 'D'): (2, 2)}, {('A', 'B'): 2, ('B', 'C'): 1, ('C', 'D'): 0})\n",
      "(1.0, 0.5, 1)\n",
      "(1.0, 1.0, 1)\n",
      "(1.0, 0.5, 1)\n",
      "(1.0, 1.0, 1)\n"
     ]
    },
    {
     "data": {
      "text/plain": [
       "<reactivex.disposable.disposable.Disposable at 0x17352e173a0>"
      ]
     },
     "execution_count": 49,
     "metadata": {},
     "output_type": "execute_result"
    }
   ],
   "source": [
    "from pybeamline.algorithms.conformance import mine_behavioral_model_from_stream, behavioral_conformance\n",
    "\n",
    "source = log_source([\"ABCD\", \"ABCD\"])\n",
    "reference_model = mine_behavioral_model_from_stream(source)\n",
    "print(reference_model)\n",
    "\n",
    "log_source([\"ABCD\", \"ABCD\"]).pipe(\n",
    "    excludes_activity_filter(\"A\"),\n",
    "    behavioral_conformance(reference_model)\n",
    ").subscribe(lambda x: print(str(x)))"
   ]
  },
  {
   "attachments": {},
   "cell_type": "markdown",
   "metadata": {},
   "source": [
    "### Sliding window\n",
    "\n",
    "This technique allows to apply any existing process mininig technique on streaming data"
   ]
  },
  {
   "cell_type": "code",
   "execution_count": 39,
   "metadata": {},
   "outputs": [
    {
     "name": "stdout",
     "output_type": "stream",
     "text": [
      "Counter({('A', 'B'): 1, ('B', 'C'): 1})\n",
      "Counter({('A', 'B'): 1, ('B', 'D'): 1})\n"
     ]
    },
    {
     "data": {
      "text/plain": [
       "<reactivex.disposable.disposable.Disposable at 0x17352a192e0>"
      ]
     },
     "execution_count": 39,
     "metadata": {},
     "output_type": "execute_result"
    }
   ],
   "source": [
    "from pybeamline.sources import log_source\n",
    "from pybeamline.mappers import sliding_window_to_log\n",
    "from reactivex.operators import window_with_count\n",
    "import pm4py\n",
    "\n",
    "def mine(log):\n",
    "    print(pm4py.discover_dfg_typed(log))\n",
    "\n",
    "log_source([\"ABC\", \"ABD\"]).pipe(\n",
    "    window_with_count(3),\n",
    "    sliding_window_to_log()\n",
    ").subscribe(mine)"
   ]
  },
  {
   "cell_type": "code",
   "execution_count": null,
   "metadata": {},
   "outputs": [],
   "source": []
  }
 ],
 "metadata": {
  "kernelspec": {
   "display_name": "Python 3",
   "language": "python",
   "name": "python3"
  },
  "language_info": {
   "codemirror_mode": {
    "name": "ipython",
    "version": 3
   },
   "file_extension": ".py",
   "mimetype": "text/x-python",
   "name": "python",
   "nbconvert_exporter": "python",
   "pygments_lexer": "ipython3",
   "version": "3.9.13"
  },
  "orig_nbformat": 4
 },
 "nbformat": 4,
 "nbformat_minor": 2
}
