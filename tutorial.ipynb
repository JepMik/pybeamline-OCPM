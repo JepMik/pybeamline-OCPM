{
  "cells": [
    {
      "cell_type": "markdown",
      "metadata": {
        "id": "yqDUtf_0mBhg"
      },
      "source": [
        "# Streaming process mining with `pyBeamline`"
      ]
    },
    {
      "cell_type": "markdown",
      "metadata": {
        "id": "9Aq7aw-kmBhj"
      },
      "source": [
        "`pyBeamline` is a Python version of Beamline. While the same set of ideas and principles of Beamline have been ported into `pyBeamline`, the underlying goal and technology is very different.\n",
        "\n",
        "pyBeamline is based on ReactiveX and its Python binding RxPY. RxPY is a library for composing asynchronous and event-based programs using observable sequences and pipable query operators in Python. Using pyBeamline it is possible to inject process mining operators into the computation.\n",
        "\n",
        "This Jupyter notebook contains the main functionalities currently exposed by `pyBeamline`. For a complete documentation of the library see https://www.beamline.cloud/pybeamline/. In the rest of the notebook it is assumed that the `pyBeamline` package is already installed.\n",
        "\n",
        "In the rest of this document, the main functionalities are exposed."
      ]
    },
    {
      "cell_type": "markdown",
      "metadata": {
        "id": "H_u0aIVxmBhk"
      },
      "source": [
        "It is possible to install the library using:"
      ]
    },
    {
      "cell_type": "code",
      "execution_count": 1,
      "metadata": {
        "id": "T1pTAL35mBhk",
        "outputId": "2d0f087c-0c5b-4a06-c022-9bc7f351d993",
        "colab": {
          "base_uri": "https://localhost:8080/"
        }
      },
      "outputs": [
        {
          "output_type": "stream",
          "name": "stdout",
          "text": [
            "Collecting pybeamline\n",
            "  Downloading pybeamline-1.0.4-py2.py3-none-any.whl.metadata (1.4 kB)\n",
            "Collecting pm4py==2.7.4 (from pybeamline)\n",
            "  Downloading pm4py-2.7.4-py3-none-any.whl.metadata (3.1 kB)\n",
            "Collecting reactivex==4.0.4 (from pybeamline)\n",
            "  Downloading reactivex-4.0.4-py3-none-any.whl.metadata (5.5 kB)\n",
            "Collecting paho-mqtt==2.1.0 (from pybeamline)\n",
            "  Downloading paho_mqtt-2.1.0-py3-none-any.whl.metadata (23 kB)\n",
            "Collecting deprecation (from pm4py==2.7.4->pybeamline)\n",
            "  Downloading deprecation-2.1.0-py2.py3-none-any.whl.metadata (4.6 kB)\n",
            "Requirement already satisfied: graphviz in /usr/local/lib/python3.10/dist-packages (from pm4py==2.7.4->pybeamline) (0.20.3)\n",
            "Collecting intervaltree (from pm4py==2.7.4->pybeamline)\n",
            "  Downloading intervaltree-3.1.0.tar.gz (32 kB)\n",
            "  Preparing metadata (setup.py) ... \u001b[?25l\u001b[?25hdone\n",
            "Requirement already satisfied: lxml in /usr/local/lib/python3.10/dist-packages (from pm4py==2.7.4->pybeamline) (4.9.4)\n",
            "Requirement already satisfied: matplotlib in /usr/local/lib/python3.10/dist-packages (from pm4py==2.7.4->pybeamline) (3.7.1)\n",
            "Requirement already satisfied: networkx in /usr/local/lib/python3.10/dist-packages (from pm4py==2.7.4->pybeamline) (3.4.2)\n",
            "Requirement already satisfied: numpy in /usr/local/lib/python3.10/dist-packages (from pm4py==2.7.4->pybeamline) (1.26.4)\n",
            "Requirement already satisfied: pandas in /usr/local/lib/python3.10/dist-packages (from pm4py==2.7.4->pybeamline) (2.2.2)\n",
            "Requirement already satisfied: pydotplus in /usr/local/lib/python3.10/dist-packages (from pm4py==2.7.4->pybeamline) (2.0.2)\n",
            "Requirement already satisfied: pytz in /usr/local/lib/python3.10/dist-packages (from pm4py==2.7.4->pybeamline) (2024.2)\n",
            "Requirement already satisfied: scipy in /usr/local/lib/python3.10/dist-packages (from pm4py==2.7.4->pybeamline) (1.13.1)\n",
            "Collecting stringdist (from pm4py==2.7.4->pybeamline)\n",
            "  Downloading StringDist-1.0.9.tar.gz (7.4 kB)\n",
            "  Preparing metadata (setup.py) ... \u001b[?25l\u001b[?25hdone\n",
            "Requirement already satisfied: tqdm in /usr/local/lib/python3.10/dist-packages (from pm4py==2.7.4->pybeamline) (4.66.5)\n",
            "Requirement already satisfied: cvxopt in /usr/local/lib/python3.10/dist-packages (from pm4py==2.7.4->pybeamline) (1.3.2)\n",
            "Requirement already satisfied: typing-extensions<5.0.0,>=4.1.1 in /usr/local/lib/python3.10/dist-packages (from reactivex==4.0.4->pybeamline) (4.12.2)\n",
            "Requirement already satisfied: packaging in /usr/local/lib/python3.10/dist-packages (from deprecation->pm4py==2.7.4->pybeamline) (24.1)\n",
            "Collecting sortedcontainers<3.0,>=2.0 (from intervaltree->pm4py==2.7.4->pybeamline)\n",
            "  Downloading sortedcontainers-2.4.0-py2.py3-none-any.whl.metadata (10 kB)\n",
            "Requirement already satisfied: contourpy>=1.0.1 in /usr/local/lib/python3.10/dist-packages (from matplotlib->pm4py==2.7.4->pybeamline) (1.3.0)\n",
            "Requirement already satisfied: cycler>=0.10 in /usr/local/lib/python3.10/dist-packages (from matplotlib->pm4py==2.7.4->pybeamline) (0.12.1)\n",
            "Requirement already satisfied: fonttools>=4.22.0 in /usr/local/lib/python3.10/dist-packages (from matplotlib->pm4py==2.7.4->pybeamline) (4.54.1)\n",
            "Requirement already satisfied: kiwisolver>=1.0.1 in /usr/local/lib/python3.10/dist-packages (from matplotlib->pm4py==2.7.4->pybeamline) (1.4.7)\n",
            "Requirement already satisfied: pillow>=6.2.0 in /usr/local/lib/python3.10/dist-packages (from matplotlib->pm4py==2.7.4->pybeamline) (10.4.0)\n",
            "Requirement already satisfied: pyparsing>=2.3.1 in /usr/local/lib/python3.10/dist-packages (from matplotlib->pm4py==2.7.4->pybeamline) (3.2.0)\n",
            "Requirement already satisfied: python-dateutil>=2.7 in /usr/local/lib/python3.10/dist-packages (from matplotlib->pm4py==2.7.4->pybeamline) (2.8.2)\n",
            "Requirement already satisfied: tzdata>=2022.7 in /usr/local/lib/python3.10/dist-packages (from pandas->pm4py==2.7.4->pybeamline) (2024.2)\n",
            "Requirement already satisfied: six>=1.5 in /usr/local/lib/python3.10/dist-packages (from python-dateutil>=2.7->matplotlib->pm4py==2.7.4->pybeamline) (1.16.0)\n",
            "Downloading pybeamline-1.0.4-py2.py3-none-any.whl (18 kB)\n",
            "Downloading paho_mqtt-2.1.0-py3-none-any.whl (67 kB)\n",
            "\u001b[2K   \u001b[90m━━━━━━━━━━━━━━━━━━━━━━━━━━━━━━━━━━━━━━━━\u001b[0m \u001b[32m67.2/67.2 kB\u001b[0m \u001b[31m3.9 MB/s\u001b[0m eta \u001b[36m0:00:00\u001b[0m\n",
            "\u001b[?25hDownloading pm4py-2.7.4-py3-none-any.whl (1.7 MB)\n",
            "\u001b[2K   \u001b[90m━━━━━━━━━━━━━━━━━━━━━━━━━━━━━━━━━━━━━━━━\u001b[0m \u001b[32m1.7/1.7 MB\u001b[0m \u001b[31m27.5 MB/s\u001b[0m eta \u001b[36m0:00:00\u001b[0m\n",
            "\u001b[?25hDownloading reactivex-4.0.4-py3-none-any.whl (217 kB)\n",
            "\u001b[2K   \u001b[90m━━━━━━━━━━━━━━━━━━━━━━━━━━━━━━━━━━━━━━━━\u001b[0m \u001b[32m217.8/217.8 kB\u001b[0m \u001b[31m12.7 MB/s\u001b[0m eta \u001b[36m0:00:00\u001b[0m\n",
            "\u001b[?25hDownloading deprecation-2.1.0-py2.py3-none-any.whl (11 kB)\n",
            "Downloading sortedcontainers-2.4.0-py2.py3-none-any.whl (29 kB)\n",
            "Building wheels for collected packages: intervaltree, stringdist\n",
            "  Building wheel for intervaltree (setup.py) ... \u001b[?25l\u001b[?25hdone\n",
            "  Created wheel for intervaltree: filename=intervaltree-3.1.0-py2.py3-none-any.whl size=26097 sha256=6fc62efc467dd9b9487e57c17eca8e9e89130c14e296df6ba1ebaa667cd81d04\n",
            "  Stored in directory: /root/.cache/pip/wheels/fa/80/8c/43488a924a046b733b64de3fac99252674c892a4c3801c0a61\n",
            "  Building wheel for stringdist (setup.py) ... \u001b[?25l\u001b[?25hdone\n",
            "  Created wheel for stringdist: filename=StringDist-1.0.9-cp310-cp310-linux_x86_64.whl size=16967 sha256=ef1b71240d28c115cf5af538e658e2c7de595daf61c344df960b221c34ae41ca\n",
            "  Stored in directory: /root/.cache/pip/wheels/79/25/0a/4a0c2c7af31a8b473f6e10e30312396f31ae899722600d7b99\n",
            "Successfully built intervaltree stringdist\n",
            "Installing collected packages: stringdist, sortedcontainers, reactivex, paho-mqtt, intervaltree, deprecation, pm4py, pybeamline\n",
            "Successfully installed deprecation-2.1.0 intervaltree-3.1.0 paho-mqtt-2.1.0 pm4py-2.7.4 pybeamline-1.0.4 reactivex-4.0.4 sortedcontainers-2.4.0 stringdist-1.0.9\n"
          ]
        }
      ],
      "source": [
        "!pip install pybeamline"
      ]
    },
    {
      "cell_type": "code",
      "execution_count": 9,
      "metadata": {
        "id": "tIdDi1uKmBhl"
      },
      "outputs": [],
      "source": [
        "# Let's ignore some PM4PY warnings in the notebook\n",
        "import warnings\n",
        "warnings.filterwarnings(\"ignore\")"
      ]
    },
    {
      "cell_type": "markdown",
      "metadata": {
        "id": "CIsiP7qLmBhl"
      },
      "source": [
        "### Sources"
      ]
    },
    {
      "cell_type": "code",
      "execution_count": null,
      "metadata": {
        "id": "Wzc6JNYXmBhm",
        "outputId": "2279d430-5cbe-4533-a744-06bf2b7644c1",
        "colab": {
          "base_uri": "https://localhost:8080/"
        }
      },
      "outputs": [
        {
          "output_type": "stream",
          "name": "stdout",
          "text": [
            "(A, case_1, Process, 2024-10-23 13:41:38.137192 - {} - {} - {})\n",
            "(B, case_1, Process, 2024-10-23 13:41:38.137340 - {} - {} - {})\n",
            "(C, case_1, Process, 2024-10-23 13:41:38.137389 - {} - {} - {})\n",
            "(A, case_2, Process, 2024-10-23 13:41:38.137430 - {} - {} - {})\n",
            "(C, case_2, Process, 2024-10-23 13:41:38.137851 - {} - {} - {})\n",
            "(B, case_2, Process, 2024-10-23 13:41:38.137919 - {} - {} - {})\n",
            "(E, case_3, Process, 2024-10-23 13:41:38.137963 - {} - {} - {})\n",
            "(F, case_3, Process, 2024-10-23 13:41:38.138007 - {} - {} - {})\n",
            "(G, case_3, Process, 2024-10-23 13:41:38.138047 - {} - {} - {})\n"
          ]
        },
        {
          "output_type": "execute_result",
          "data": {
            "text/plain": [
              "<reactivex.disposable.disposable.Disposable at 0x7e2e0c574820>"
            ]
          },
          "metadata": {},
          "execution_count": 2
        }
      ],
      "source": [
        "from pybeamline.sources import string_test_source\n",
        "\n",
        "string_test_source([\"ABC\", \"ACB\", \"EFG\"]) \\\n",
        "    .subscribe(lambda x: print(str(x)))"
      ]
    },
    {
      "cell_type": "code",
      "source": [
        "!wget https://raw.githubusercontent.com/beamline/pybeamline/refs/heads/master/tests/log.xes"
      ],
      "metadata": {
        "id": "MNEZbH1UwkeQ",
        "outputId": "a89cca84-3290-4469-cfe6-b36460bc7c84",
        "colab": {
          "base_uri": "https://localhost:8080/"
        }
      },
      "execution_count": 6,
      "outputs": [
        {
          "output_type": "stream",
          "name": "stdout",
          "text": [
            "--2024-10-24 09:02:11--  https://raw.githubusercontent.com/beamline/pybeamline/refs/heads/master/tests/log.xes\n",
            "Resolving raw.githubusercontent.com (raw.githubusercontent.com)... 185.199.108.133, 185.199.109.133, 185.199.110.133, ...\n",
            "Connecting to raw.githubusercontent.com (raw.githubusercontent.com)|185.199.108.133|:443... connected.\n",
            "HTTP request sent, awaiting response... 200 OK\n",
            "Length: 2029 (2.0K) [text/plain]\n",
            "Saving to: ‘log.xes.1’\n",
            "\n",
            "\rlog.xes.1             0%[                    ]       0  --.-KB/s               \rlog.xes.1           100%[===================>]   1.98K  --.-KB/s    in 0s      \n",
            "\n",
            "2024-10-24 09:02:11 (17.3 MB/s) - ‘log.xes.1’ saved [2029/2029]\n",
            "\n"
          ]
        }
      ]
    },
    {
      "cell_type": "code",
      "execution_count": 10,
      "metadata": {
        "id": "gQTaqXeImBhm",
        "outputId": "5cad5e73-16b8-4868-d1b4-565124fa670c",
        "colab": {
          "base_uri": "https://localhost:8080/",
          "height": 153,
          "referenced_widgets": [
            "5d8a487a8d7940089db68c13ffcbd06b",
            "5fa10360934a4be889abaf60f769b568",
            "b9c48d84a31948d891f4d70d99a9f204",
            "9afd85cd28d74e0989fc219300f86108",
            "2e65cd52f3c34512afdca1503c3f662f",
            "c6e6f0f4506c4381aa40bd84c69e579e",
            "5a7c69a8d38441738adf0273e06bdf65",
            "41b43de7c5254af29a323df2161454fa",
            "0d76989c54284f63a029f1ec7598ffc8",
            "58e08e66fbd0486bad8667709c4549a5",
            "2c58b796690d410195b2b762570b26af"
          ]
        }
      },
      "outputs": [
        {
          "output_type": "display_data",
          "data": {
            "text/plain": [
              "parsing log, completed traces ::   0%|          | 0/2 [00:00<?, ?it/s]"
            ],
            "application/vnd.jupyter.widget-view+json": {
              "version_major": 2,
              "version_minor": 0,
              "model_id": "5d8a487a8d7940089db68c13ffcbd06b"
            }
          },
          "metadata": {}
        },
        {
          "output_type": "stream",
          "name": "stdout",
          "text": [
            "(a11, c1, log-file, 2024-10-24 09:02:51.070206 - {'lifecycle:transition': 'complete', 'act': 'a11'} - {'variant': 'Variant 1', 'creator': 'Fluxicon Disco', 'variant-index': 1} - {})\n",
            "(a12, c1, log-file, 2024-10-24 09:02:51.073318 - {'lifecycle:transition': 'complete', 'act': 'a12'} - {'variant': 'Variant 1', 'creator': 'Fluxicon Disco', 'variant-index': 1} - {})\n",
            "(a21, c2, log-file, 2024-10-24 09:02:51.074364 - {'lifecycle:transition': 'complete', 'act': 'a21'} - {'variant': 'Variant 2', 'creator': 'Fluxicon Disco', 'variant-index': 2} - {})\n",
            "(a22, c2, log-file, 2024-10-24 09:02:51.076163 - {'lifecycle:transition': 'complete', 'act': 'a22'} - {'variant': 'Variant 2', 'creator': 'Fluxicon Disco', 'variant-index': 2} - {})\n",
            "(a23, c2, log-file, 2024-10-24 09:02:51.077837 - {'lifecycle:transition': 'complete', 'act': 'a23'} - {'variant': 'Variant 2', 'creator': 'Fluxicon Disco', 'variant-index': 2} - {})\n"
          ]
        },
        {
          "output_type": "execute_result",
          "data": {
            "text/plain": [
              "<reactivex.disposable.disposable.Disposable at 0x7f3fbbdc98a0>"
            ]
          },
          "metadata": {},
          "execution_count": 10
        }
      ],
      "source": [
        "from pybeamline.sources import xes_log_source_from_file\n",
        "\n",
        "xes_log_source_from_file(\"log.xes\") \\\n",
        "    .subscribe(lambda x: print(str(x)))"
      ]
    },
    {
      "cell_type": "code",
      "execution_count": 11,
      "metadata": {
        "id": "AyPZen8BmBhm",
        "outputId": "afc28a44-6a40-4f6b-8aca-99b98fc6b094",
        "colab": {
          "base_uri": "https://localhost:8080/",
          "height": 309,
          "referenced_widgets": [
            "d7137290a0ba40e9be2f9eb23b1c7a73",
            "3ef52dfa95b64cd19e42aec30386f7d6",
            "41d245b4727a4c9294ea5801ca5ff602",
            "4ddac8bfc3fb4e4299c1c323f8300a3a",
            "53557302908148bda08c5f78fe16858c",
            "0f00ac4f2a454b7bab9b81efe996f8c1",
            "9d7d915d8b2e486895081992856161fa",
            "e4e4275aecac4e2098523e205b1fda01",
            "d437364fe6d84b53b7643416b135f795",
            "4673e55656ae421f860961938b00e024",
            "70dd795e89994bf78a291697fc4fd8cf"
          ]
        }
      },
      "outputs": [
        {
          "output_type": "stream",
          "name": "stdout",
          "text": [
            "(A, case_1, Process, 2024-10-24 09:03:10.411580 - {} - {} - {})\n",
            "(B, case_1, Process, 2024-10-24 09:03:10.414995 - {} - {} - {})\n",
            "(C, case_1, Process, 2024-10-24 09:03:10.415772 - {} - {} - {})\n",
            "(A, case_2, Process, 2024-10-24 09:03:10.416392 - {} - {} - {})\n",
            "(C, case_2, Process, 2024-10-24 09:03:10.416952 - {} - {} - {})\n",
            "(B, case_2, Process, 2024-10-24 09:03:10.417453 - {} - {} - {})\n",
            "(E, case_3, Process, 2024-10-24 09:03:10.417987 - {} - {} - {})\n",
            "(F, case_3, Process, 2024-10-24 09:03:10.418303 - {} - {} - {})\n",
            "(G, case_3, Process, 2024-10-24 09:03:10.418359 - {} - {} - {})\n"
          ]
        },
        {
          "output_type": "display_data",
          "data": {
            "text/plain": [
              "parsing log, completed traces ::   0%|          | 0/2 [00:00<?, ?it/s]"
            ],
            "application/vnd.jupyter.widget-view+json": {
              "version_major": 2,
              "version_minor": 0,
              "model_id": "d7137290a0ba40e9be2f9eb23b1c7a73"
            }
          },
          "metadata": {}
        },
        {
          "output_type": "stream",
          "name": "stdout",
          "text": [
            "(a11, c1, log-file, 2024-10-24 09:03:10.472343 - {'lifecycle:transition': 'complete', 'act': 'a11'} - {'variant': 'Variant 1', 'creator': 'Fluxicon Disco', 'variant-index': 1} - {})\n",
            "(a12, c1, log-file, 2024-10-24 09:03:10.474654 - {'lifecycle:transition': 'complete', 'act': 'a12'} - {'variant': 'Variant 1', 'creator': 'Fluxicon Disco', 'variant-index': 1} - {})\n",
            "(a21, c2, log-file, 2024-10-24 09:03:10.476066 - {'lifecycle:transition': 'complete', 'act': 'a21'} - {'variant': 'Variant 2', 'creator': 'Fluxicon Disco', 'variant-index': 2} - {})\n",
            "(a22, c2, log-file, 2024-10-24 09:03:10.477115 - {'lifecycle:transition': 'complete', 'act': 'a22'} - {'variant': 'Variant 2', 'creator': 'Fluxicon Disco', 'variant-index': 2} - {})\n",
            "(a23, c2, log-file, 2024-10-24 09:03:10.478081 - {'lifecycle:transition': 'complete', 'act': 'a23'} - {'variant': 'Variant 2', 'creator': 'Fluxicon Disco', 'variant-index': 2} - {})\n"
          ]
        },
        {
          "output_type": "execute_result",
          "data": {
            "text/plain": [
              "<reactivex.disposable.disposable.Disposable at 0x7f3fbbca1f90>"
            ]
          },
          "metadata": {},
          "execution_count": 11
        }
      ],
      "source": [
        "from pybeamline.sources import log_source\n",
        "\n",
        "log_source([\"ABC\", \"ACB\", \"EFG\"]) \\\n",
        "    .subscribe(lambda x: print(str(x)))\n",
        "\n",
        "log_source(\"log.xes\") \\\n",
        "    .subscribe(lambda x: print(str(x)))"
      ]
    },
    {
      "cell_type": "code",
      "source": [
        "from pybeamline.sources import mqttxes_source\n",
        "\n",
        "mqttxes_source('broker.mqtt.cool', 1883, 'bla/bla/') \\\n",
        "  .subscribe(lambda x: print(str(x)))\n",
        "\n",
        "input()"
      ],
      "metadata": {
        "id": "ePzA0wNAnKYS",
        "outputId": "8128caae-9c04-41d8-ba86-3db682650bbd",
        "colab": {
          "base_uri": "https://localhost:8080/",
          "height": 87
        }
      },
      "execution_count": null,
      "outputs": [
        {
          "name": "stdout",
          "output_type": "stream",
          "text": [
            "Connected to MQTT broker\n",
            "(B, c62, p1, 2024-10-23 13:42:55.596588 - {'test-attribute': 42} - {} - {})\n",
            "\n"
          ]
        },
        {
          "output_type": "execute_result",
          "data": {
            "text/plain": [
              "''"
            ],
            "application/vnd.google.colaboratory.intrinsic+json": {
              "type": "string"
            }
          },
          "metadata": {},
          "execution_count": 4
        }
      ]
    },
    {
      "cell_type": "markdown",
      "metadata": {
        "id": "zDiJsMvfmBhn"
      },
      "source": [
        "### Filters"
      ]
    },
    {
      "cell_type": "code",
      "execution_count": 12,
      "metadata": {
        "id": "dCUSRIHhmBhn",
        "outputId": "a855a1b7-3744-4469-87d2-32a548bcf668",
        "colab": {
          "base_uri": "https://localhost:8080/",
          "height": 136,
          "referenced_widgets": [
            "58ed0012aaaf40c5a7a90a2f1047dab9",
            "39f72922e0754dd58d7537985bcce1f7",
            "4d85a20d2f404c5b99e6b07136353991",
            "4a393c62f02b4f518e4f398d61fe0559",
            "28069698c7bd4f86aff8a728a36e6658",
            "45b1e3aa9637444c9cf569ce6f6eecb3",
            "13b29d5746be46a4b993ef936504504d",
            "089c34fb652c4306adadec70761bdd26",
            "6ccb528e9d0c448b8e3bcd79cdd7b191",
            "3fd7f15929c54cf19fc3b8a44efce831",
            "99a892ab9fb34f78b43f54d9c7cc6492"
          ]
        }
      },
      "outputs": [
        {
          "output_type": "display_data",
          "data": {
            "text/plain": [
              "parsing log, completed traces ::   0%|          | 0/2 [00:00<?, ?it/s]"
            ],
            "application/vnd.jupyter.widget-view+json": {
              "version_major": 2,
              "version_minor": 0,
              "model_id": "58ed0012aaaf40c5a7a90a2f1047dab9"
            }
          },
          "metadata": {}
        },
        {
          "output_type": "stream",
          "name": "stdout",
          "text": [
            "(a12, c1, log-file, 2024-10-24 09:03:16.260189 - {'lifecycle:transition': 'complete', 'act': 'a12'} - {'variant': 'Variant 1', 'creator': 'Fluxicon Disco', 'variant-index': 1} - {})\n",
            "(a21, c2, log-file, 2024-10-24 09:03:16.261748 - {'lifecycle:transition': 'complete', 'act': 'a21'} - {'variant': 'Variant 2', 'creator': 'Fluxicon Disco', 'variant-index': 2} - {})\n",
            "(a22, c2, log-file, 2024-10-24 09:03:16.262964 - {'lifecycle:transition': 'complete', 'act': 'a22'} - {'variant': 'Variant 2', 'creator': 'Fluxicon Disco', 'variant-index': 2} - {})\n",
            "(a23, c2, log-file, 2024-10-24 09:03:16.267345 - {'lifecycle:transition': 'complete', 'act': 'a23'} - {'variant': 'Variant 2', 'creator': 'Fluxicon Disco', 'variant-index': 2} - {})\n"
          ]
        },
        {
          "output_type": "execute_result",
          "data": {
            "text/plain": [
              "<reactivex.disposable.disposable.Disposable at 0x7f3fbbca2590>"
            ]
          },
          "metadata": {},
          "execution_count": 12
        }
      ],
      "source": [
        "from pybeamline.sources import log_source\n",
        "from pybeamline.filters import excludes_activity_filter\n",
        "\n",
        "log_source(\"log.xes\").pipe(\n",
        "    excludes_activity_filter(\"a11\"),\n",
        ").subscribe(lambda x: print(str(x)))\n",
        "\n",
        "# Similar functionalities for these filters:\n",
        "# - excludes_on_event_attribute_equal_filter\n",
        "# - retains_on_trace_attribute_equal_filter\n",
        "# - excludes_on_trace_attribute_equal_filter\n",
        "# - retains_activity_filter\n",
        "# - excludes_activity_filter\n"
      ]
    },
    {
      "cell_type": "markdown",
      "metadata": {
        "id": "UWUXL_fRmBhn"
      },
      "source": [
        "### Discovery techniques"
      ]
    },
    {
      "cell_type": "markdown",
      "metadata": {
        "id": "AMBDs1ZemBhn"
      },
      "source": [
        "Mining of directly-follows relations:"
      ]
    },
    {
      "cell_type": "code",
      "execution_count": null,
      "metadata": {
        "id": "gaEnORBPmBhn",
        "outputId": "25670ab6-fd25-438b-fb20-95f2c5c1d4b5"
      },
      "outputs": [
        {
          "name": "stdout",
          "output_type": "stream",
          "text": [
            "('A', 'B')\n",
            "('B', 'C')\n",
            "('A', 'C')\n",
            "('C', 'B')\n"
          ]
        },
        {
          "data": {
            "text/plain": [
              "<reactivex.disposable.disposable.Disposable at 0x173529a5b80>"
            ]
          },
          "execution_count": 40,
          "metadata": {},
          "output_type": "execute_result"
        }
      ],
      "source": [
        "from pybeamline.sources import log_source\n",
        "from pybeamline.mappers import infinite_size_directly_follows_mapper\n",
        "\n",
        "log_source([\"ABC\", \"ACB\"]).pipe(\n",
        "    infinite_size_directly_follows_mapper()\n",
        ").subscribe(lambda x: print(str(x)))"
      ]
    },
    {
      "cell_type": "markdown",
      "metadata": {
        "id": "OOg8zOcMmBho"
      },
      "source": [
        "Mining of a Heuristics net using Lossy Counting:"
      ]
    },
    {
      "cell_type": "code",
      "execution_count": null,
      "metadata": {
        "id": "L8r4SNCymBho",
        "outputId": "cd92f232-bd68-4837-985f-3538a9ce79d9"
      },
      "outputs": [
        {
          "name": "stdout",
          "output_type": "stream",
          "text": [
            "{'A': (node:A connections:{B:[0.5]}), 'B': (node:B connections:{C:[0.5]}), 'C': (node:C connections:{})}\n",
            "{'C': (node:C connections:{D:[0.5]}), 'D': (node:D connections:{}), 'A': (node:A connections:{B:[0.6666666666666666]}), 'B': (node:B connections:{C:[0.6666666666666666]})}\n"
          ]
        },
        {
          "data": {
            "text/plain": [
              "<reactivex.disposable.disposable.Disposable at 0x173521cfbb0>"
            ]
          },
          "execution_count": 43,
          "metadata": {},
          "output_type": "execute_result"
        }
      ],
      "source": [
        "from pybeamline.algorithms.discovery import heuristics_miner_lossy_counting\n",
        "\n",
        "log_source([\"ABCD\", \"ABCD\"]).pipe(\n",
        "    heuristics_miner_lossy_counting(model_update_frequency=4)\n",
        ").subscribe(lambda x: print(str(x)))"
      ]
    },
    {
      "cell_type": "markdown",
      "metadata": {
        "id": "k5W33Vq6mBho"
      },
      "source": [
        "Mining of a Heuristics net using Lossy Counting with Budget:"
      ]
    },
    {
      "cell_type": "code",
      "execution_count": null,
      "metadata": {
        "id": "q7nmZbJEmBho",
        "outputId": "5183a8fd-52a3-4611-abd3-31c7c4e6433e"
      },
      "outputs": [
        {
          "name": "stdout",
          "output_type": "stream",
          "text": [
            "{'A': (node:A connections:{B:[0.5]}), 'B': (node:B connections:{C:[0.5]}), 'C': (node:C connections:{D:[0.5]}), 'D': (node:D connections:{})}\n",
            "{'A': (node:A connections:{B:[0.6666666666666666]}), 'B': (node:B connections:{C:[0.6666666666666666]}), 'C': (node:C connections:{D:[0.6666666666666666]}), 'D': (node:D connections:{})}\n"
          ]
        },
        {
          "data": {
            "text/plain": [
              "<reactivex.disposable.disposable.Disposable at 0x173521cfd60>"
            ]
          },
          "execution_count": 44,
          "metadata": {},
          "output_type": "execute_result"
        }
      ],
      "source": [
        "from pybeamline.algorithms.discovery import heuristics_miner_lossy_counting_budget\n",
        "\n",
        "log_source([\"ABCD\", \"ABCD\"]).pipe(\n",
        "    heuristics_miner_lossy_counting_budget(model_update_frequency=4)\n",
        ").subscribe(lambda x: print(str(x)))"
      ]
    },
    {
      "cell_type": "markdown",
      "metadata": {
        "id": "Lcd3aB4kmBho"
      },
      "source": [
        "### Conformance checking"
      ]
    },
    {
      "cell_type": "markdown",
      "metadata": {
        "id": "9dn3LWKzmBho"
      },
      "source": [
        "Currently only conformance checking using behavioral profiles is supported:"
      ]
    },
    {
      "cell_type": "code",
      "execution_count": null,
      "metadata": {
        "id": "9VW8GcqgmBho",
        "outputId": "aa5206d9-5180-4f19-8380-d2aa57733fd2"
      },
      "outputs": [
        {
          "name": "stdout",
          "output_type": "stream",
          "text": [
            "([('A', 'B'), ('B', 'C'), ('C', 'D')], {('A', 'B'): (0, 0), ('B', 'C'): (1, 1), ('C', 'D'): (2, 2)}, {('A', 'B'): 2, ('B', 'C'): 1, ('C', 'D'): 0})\n",
            "(1.0, 0.5, 1)\n",
            "(1.0, 1.0, 1)\n",
            "(1.0, 0.5, 1)\n",
            "(1.0, 1.0, 1)\n"
          ]
        },
        {
          "data": {
            "text/plain": [
              "<reactivex.disposable.disposable.Disposable at 0x17352e173a0>"
            ]
          },
          "execution_count": 49,
          "metadata": {},
          "output_type": "execute_result"
        }
      ],
      "source": [
        "from pybeamline.algorithms.conformance import mine_behavioral_model_from_stream, behavioral_conformance\n",
        "\n",
        "source = log_source([\"ABCD\", \"ABCD\"])\n",
        "reference_model = mine_behavioral_model_from_stream(source)\n",
        "print(reference_model)\n",
        "\n",
        "log_source([\"ABCD\", \"ABCD\"]).pipe(\n",
        "    excludes_activity_filter(\"A\"),\n",
        "    behavioral_conformance(reference_model)\n",
        ").subscribe(lambda x: print(str(x)))"
      ]
    },
    {
      "cell_type": "markdown",
      "metadata": {
        "id": "NK9p3h2FmBhp"
      },
      "source": [
        "### Sliding window\n",
        "\n",
        "This technique allows to apply any existing process mininig technique on streaming data"
      ]
    },
    {
      "cell_type": "code",
      "execution_count": null,
      "metadata": {
        "id": "QO0pdOlamBhp",
        "outputId": "1c75631c-0a48-4e35-c0d5-79e5375b8ca9"
      },
      "outputs": [
        {
          "name": "stdout",
          "output_type": "stream",
          "text": [
            "Counter({('A', 'B'): 1, ('B', 'C'): 1})\n",
            "Counter({('A', 'B'): 1, ('B', 'D'): 1})\n"
          ]
        },
        {
          "data": {
            "text/plain": [
              "<reactivex.disposable.disposable.Disposable at 0x17352a192e0>"
            ]
          },
          "execution_count": 39,
          "metadata": {},
          "output_type": "execute_result"
        }
      ],
      "source": [
        "from pybeamline.sources import log_source\n",
        "from pybeamline.mappers import sliding_window_to_log\n",
        "from reactivex.operators import window_with_count\n",
        "import pm4py\n",
        "\n",
        "def mine(log):\n",
        "    print(pm4py.discover_dfg_typed(log))\n",
        "\n",
        "log_source([\"ABC\", \"ABD\"]).pipe(\n",
        "    window_with_count(3),\n",
        "    sliding_window_to_log()\n",
        ").subscribe(mine)"
      ]
    },
    {
      "cell_type": "code",
      "execution_count": null,
      "metadata": {
        "id": "S5CnOHBemBhp"
      },
      "outputs": [],
      "source": []
    }
  ],
  "metadata": {
    "kernelspec": {
      "display_name": "Python 3",
      "language": "python",
      "name": "python3"
    },
    "language_info": {
      "codemirror_mode": {
        "name": "ipython",
        "version": 3
      },
      "file_extension": ".py",
      "mimetype": "text/x-python",
      "name": "python",
      "nbconvert_exporter": "python",
      "pygments_lexer": "ipython3",
      "version": "3.9.13"
    },
    "orig_nbformat": 4,
    "colab": {
      "provenance": []
    },
    "widgets": {
      "application/vnd.jupyter.widget-state+json": {
        "5d8a487a8d7940089db68c13ffcbd06b": {
          "model_module": "@jupyter-widgets/controls",
          "model_name": "HBoxModel",
          "model_module_version": "1.5.0",
          "state": {
            "_dom_classes": [],
            "_model_module": "@jupyter-widgets/controls",
            "_model_module_version": "1.5.0",
            "_model_name": "HBoxModel",
            "_view_count": null,
            "_view_module": "@jupyter-widgets/controls",
            "_view_module_version": "1.5.0",
            "_view_name": "HBoxView",
            "box_style": "",
            "children": [
              "IPY_MODEL_5fa10360934a4be889abaf60f769b568",
              "IPY_MODEL_b9c48d84a31948d891f4d70d99a9f204",
              "IPY_MODEL_9afd85cd28d74e0989fc219300f86108"
            ],
            "layout": "IPY_MODEL_2e65cd52f3c34512afdca1503c3f662f"
          }
        },
        "5fa10360934a4be889abaf60f769b568": {
          "model_module": "@jupyter-widgets/controls",
          "model_name": "HTMLModel",
          "model_module_version": "1.5.0",
          "state": {
            "_dom_classes": [],
            "_model_module": "@jupyter-widgets/controls",
            "_model_module_version": "1.5.0",
            "_model_name": "HTMLModel",
            "_view_count": null,
            "_view_module": "@jupyter-widgets/controls",
            "_view_module_version": "1.5.0",
            "_view_name": "HTMLView",
            "description": "",
            "description_tooltip": null,
            "layout": "IPY_MODEL_c6e6f0f4506c4381aa40bd84c69e579e",
            "placeholder": "​",
            "style": "IPY_MODEL_5a7c69a8d38441738adf0273e06bdf65",
            "value": "parsing log, completed traces :: 100%"
          }
        },
        "b9c48d84a31948d891f4d70d99a9f204": {
          "model_module": "@jupyter-widgets/controls",
          "model_name": "FloatProgressModel",
          "model_module_version": "1.5.0",
          "state": {
            "_dom_classes": [],
            "_model_module": "@jupyter-widgets/controls",
            "_model_module_version": "1.5.0",
            "_model_name": "FloatProgressModel",
            "_view_count": null,
            "_view_module": "@jupyter-widgets/controls",
            "_view_module_version": "1.5.0",
            "_view_name": "ProgressView",
            "bar_style": "success",
            "description": "",
            "description_tooltip": null,
            "layout": "IPY_MODEL_41b43de7c5254af29a323df2161454fa",
            "max": 2,
            "min": 0,
            "orientation": "horizontal",
            "style": "IPY_MODEL_0d76989c54284f63a029f1ec7598ffc8",
            "value": 2
          }
        },
        "9afd85cd28d74e0989fc219300f86108": {
          "model_module": "@jupyter-widgets/controls",
          "model_name": "HTMLModel",
          "model_module_version": "1.5.0",
          "state": {
            "_dom_classes": [],
            "_model_module": "@jupyter-widgets/controls",
            "_model_module_version": "1.5.0",
            "_model_name": "HTMLModel",
            "_view_count": null,
            "_view_module": "@jupyter-widgets/controls",
            "_view_module_version": "1.5.0",
            "_view_name": "HTMLView",
            "description": "",
            "description_tooltip": null,
            "layout": "IPY_MODEL_58e08e66fbd0486bad8667709c4549a5",
            "placeholder": "​",
            "style": "IPY_MODEL_2c58b796690d410195b2b762570b26af",
            "value": " 2/2 [00:00&lt;00:00, 81.33it/s]"
          }
        },
        "2e65cd52f3c34512afdca1503c3f662f": {
          "model_module": "@jupyter-widgets/base",
          "model_name": "LayoutModel",
          "model_module_version": "1.2.0",
          "state": {
            "_model_module": "@jupyter-widgets/base",
            "_model_module_version": "1.2.0",
            "_model_name": "LayoutModel",
            "_view_count": null,
            "_view_module": "@jupyter-widgets/base",
            "_view_module_version": "1.2.0",
            "_view_name": "LayoutView",
            "align_content": null,
            "align_items": null,
            "align_self": null,
            "border": null,
            "bottom": null,
            "display": null,
            "flex": null,
            "flex_flow": null,
            "grid_area": null,
            "grid_auto_columns": null,
            "grid_auto_flow": null,
            "grid_auto_rows": null,
            "grid_column": null,
            "grid_gap": null,
            "grid_row": null,
            "grid_template_areas": null,
            "grid_template_columns": null,
            "grid_template_rows": null,
            "height": null,
            "justify_content": null,
            "justify_items": null,
            "left": null,
            "margin": null,
            "max_height": null,
            "max_width": null,
            "min_height": null,
            "min_width": null,
            "object_fit": null,
            "object_position": null,
            "order": null,
            "overflow": null,
            "overflow_x": null,
            "overflow_y": null,
            "padding": null,
            "right": null,
            "top": null,
            "visibility": null,
            "width": null
          }
        },
        "c6e6f0f4506c4381aa40bd84c69e579e": {
          "model_module": "@jupyter-widgets/base",
          "model_name": "LayoutModel",
          "model_module_version": "1.2.0",
          "state": {
            "_model_module": "@jupyter-widgets/base",
            "_model_module_version": "1.2.0",
            "_model_name": "LayoutModel",
            "_view_count": null,
            "_view_module": "@jupyter-widgets/base",
            "_view_module_version": "1.2.0",
            "_view_name": "LayoutView",
            "align_content": null,
            "align_items": null,
            "align_self": null,
            "border": null,
            "bottom": null,
            "display": null,
            "flex": null,
            "flex_flow": null,
            "grid_area": null,
            "grid_auto_columns": null,
            "grid_auto_flow": null,
            "grid_auto_rows": null,
            "grid_column": null,
            "grid_gap": null,
            "grid_row": null,
            "grid_template_areas": null,
            "grid_template_columns": null,
            "grid_template_rows": null,
            "height": null,
            "justify_content": null,
            "justify_items": null,
            "left": null,
            "margin": null,
            "max_height": null,
            "max_width": null,
            "min_height": null,
            "min_width": null,
            "object_fit": null,
            "object_position": null,
            "order": null,
            "overflow": null,
            "overflow_x": null,
            "overflow_y": null,
            "padding": null,
            "right": null,
            "top": null,
            "visibility": null,
            "width": null
          }
        },
        "5a7c69a8d38441738adf0273e06bdf65": {
          "model_module": "@jupyter-widgets/controls",
          "model_name": "DescriptionStyleModel",
          "model_module_version": "1.5.0",
          "state": {
            "_model_module": "@jupyter-widgets/controls",
            "_model_module_version": "1.5.0",
            "_model_name": "DescriptionStyleModel",
            "_view_count": null,
            "_view_module": "@jupyter-widgets/base",
            "_view_module_version": "1.2.0",
            "_view_name": "StyleView",
            "description_width": ""
          }
        },
        "41b43de7c5254af29a323df2161454fa": {
          "model_module": "@jupyter-widgets/base",
          "model_name": "LayoutModel",
          "model_module_version": "1.2.0",
          "state": {
            "_model_module": "@jupyter-widgets/base",
            "_model_module_version": "1.2.0",
            "_model_name": "LayoutModel",
            "_view_count": null,
            "_view_module": "@jupyter-widgets/base",
            "_view_module_version": "1.2.0",
            "_view_name": "LayoutView",
            "align_content": null,
            "align_items": null,
            "align_self": null,
            "border": null,
            "bottom": null,
            "display": null,
            "flex": null,
            "flex_flow": null,
            "grid_area": null,
            "grid_auto_columns": null,
            "grid_auto_flow": null,
            "grid_auto_rows": null,
            "grid_column": null,
            "grid_gap": null,
            "grid_row": null,
            "grid_template_areas": null,
            "grid_template_columns": null,
            "grid_template_rows": null,
            "height": null,
            "justify_content": null,
            "justify_items": null,
            "left": null,
            "margin": null,
            "max_height": null,
            "max_width": null,
            "min_height": null,
            "min_width": null,
            "object_fit": null,
            "object_position": null,
            "order": null,
            "overflow": null,
            "overflow_x": null,
            "overflow_y": null,
            "padding": null,
            "right": null,
            "top": null,
            "visibility": null,
            "width": null
          }
        },
        "0d76989c54284f63a029f1ec7598ffc8": {
          "model_module": "@jupyter-widgets/controls",
          "model_name": "ProgressStyleModel",
          "model_module_version": "1.5.0",
          "state": {
            "_model_module": "@jupyter-widgets/controls",
            "_model_module_version": "1.5.0",
            "_model_name": "ProgressStyleModel",
            "_view_count": null,
            "_view_module": "@jupyter-widgets/base",
            "_view_module_version": "1.2.0",
            "_view_name": "StyleView",
            "bar_color": null,
            "description_width": ""
          }
        },
        "58e08e66fbd0486bad8667709c4549a5": {
          "model_module": "@jupyter-widgets/base",
          "model_name": "LayoutModel",
          "model_module_version": "1.2.0",
          "state": {
            "_model_module": "@jupyter-widgets/base",
            "_model_module_version": "1.2.0",
            "_model_name": "LayoutModel",
            "_view_count": null,
            "_view_module": "@jupyter-widgets/base",
            "_view_module_version": "1.2.0",
            "_view_name": "LayoutView",
            "align_content": null,
            "align_items": null,
            "align_self": null,
            "border": null,
            "bottom": null,
            "display": null,
            "flex": null,
            "flex_flow": null,
            "grid_area": null,
            "grid_auto_columns": null,
            "grid_auto_flow": null,
            "grid_auto_rows": null,
            "grid_column": null,
            "grid_gap": null,
            "grid_row": null,
            "grid_template_areas": null,
            "grid_template_columns": null,
            "grid_template_rows": null,
            "height": null,
            "justify_content": null,
            "justify_items": null,
            "left": null,
            "margin": null,
            "max_height": null,
            "max_width": null,
            "min_height": null,
            "min_width": null,
            "object_fit": null,
            "object_position": null,
            "order": null,
            "overflow": null,
            "overflow_x": null,
            "overflow_y": null,
            "padding": null,
            "right": null,
            "top": null,
            "visibility": null,
            "width": null
          }
        },
        "2c58b796690d410195b2b762570b26af": {
          "model_module": "@jupyter-widgets/controls",
          "model_name": "DescriptionStyleModel",
          "model_module_version": "1.5.0",
          "state": {
            "_model_module": "@jupyter-widgets/controls",
            "_model_module_version": "1.5.0",
            "_model_name": "DescriptionStyleModel",
            "_view_count": null,
            "_view_module": "@jupyter-widgets/base",
            "_view_module_version": "1.2.0",
            "_view_name": "StyleView",
            "description_width": ""
          }
        },
        "d7137290a0ba40e9be2f9eb23b1c7a73": {
          "model_module": "@jupyter-widgets/controls",
          "model_name": "HBoxModel",
          "model_module_version": "1.5.0",
          "state": {
            "_dom_classes": [],
            "_model_module": "@jupyter-widgets/controls",
            "_model_module_version": "1.5.0",
            "_model_name": "HBoxModel",
            "_view_count": null,
            "_view_module": "@jupyter-widgets/controls",
            "_view_module_version": "1.5.0",
            "_view_name": "HBoxView",
            "box_style": "",
            "children": [
              "IPY_MODEL_3ef52dfa95b64cd19e42aec30386f7d6",
              "IPY_MODEL_41d245b4727a4c9294ea5801ca5ff602",
              "IPY_MODEL_4ddac8bfc3fb4e4299c1c323f8300a3a"
            ],
            "layout": "IPY_MODEL_53557302908148bda08c5f78fe16858c"
          }
        },
        "3ef52dfa95b64cd19e42aec30386f7d6": {
          "model_module": "@jupyter-widgets/controls",
          "model_name": "HTMLModel",
          "model_module_version": "1.5.0",
          "state": {
            "_dom_classes": [],
            "_model_module": "@jupyter-widgets/controls",
            "_model_module_version": "1.5.0",
            "_model_name": "HTMLModel",
            "_view_count": null,
            "_view_module": "@jupyter-widgets/controls",
            "_view_module_version": "1.5.0",
            "_view_name": "HTMLView",
            "description": "",
            "description_tooltip": null,
            "layout": "IPY_MODEL_0f00ac4f2a454b7bab9b81efe996f8c1",
            "placeholder": "​",
            "style": "IPY_MODEL_9d7d915d8b2e486895081992856161fa",
            "value": "parsing log, completed traces :: 100%"
          }
        },
        "41d245b4727a4c9294ea5801ca5ff602": {
          "model_module": "@jupyter-widgets/controls",
          "model_name": "FloatProgressModel",
          "model_module_version": "1.5.0",
          "state": {
            "_dom_classes": [],
            "_model_module": "@jupyter-widgets/controls",
            "_model_module_version": "1.5.0",
            "_model_name": "FloatProgressModel",
            "_view_count": null,
            "_view_module": "@jupyter-widgets/controls",
            "_view_module_version": "1.5.0",
            "_view_name": "ProgressView",
            "bar_style": "success",
            "description": "",
            "description_tooltip": null,
            "layout": "IPY_MODEL_e4e4275aecac4e2098523e205b1fda01",
            "max": 2,
            "min": 0,
            "orientation": "horizontal",
            "style": "IPY_MODEL_d437364fe6d84b53b7643416b135f795",
            "value": 2
          }
        },
        "4ddac8bfc3fb4e4299c1c323f8300a3a": {
          "model_module": "@jupyter-widgets/controls",
          "model_name": "HTMLModel",
          "model_module_version": "1.5.0",
          "state": {
            "_dom_classes": [],
            "_model_module": "@jupyter-widgets/controls",
            "_model_module_version": "1.5.0",
            "_model_name": "HTMLModel",
            "_view_count": null,
            "_view_module": "@jupyter-widgets/controls",
            "_view_module_version": "1.5.0",
            "_view_name": "HTMLView",
            "description": "",
            "description_tooltip": null,
            "layout": "IPY_MODEL_4673e55656ae421f860961938b00e024",
            "placeholder": "​",
            "style": "IPY_MODEL_70dd795e89994bf78a291697fc4fd8cf",
            "value": " 2/2 [00:00&lt;00:00, 54.29it/s]"
          }
        },
        "53557302908148bda08c5f78fe16858c": {
          "model_module": "@jupyter-widgets/base",
          "model_name": "LayoutModel",
          "model_module_version": "1.2.0",
          "state": {
            "_model_module": "@jupyter-widgets/base",
            "_model_module_version": "1.2.0",
            "_model_name": "LayoutModel",
            "_view_count": null,
            "_view_module": "@jupyter-widgets/base",
            "_view_module_version": "1.2.0",
            "_view_name": "LayoutView",
            "align_content": null,
            "align_items": null,
            "align_self": null,
            "border": null,
            "bottom": null,
            "display": null,
            "flex": null,
            "flex_flow": null,
            "grid_area": null,
            "grid_auto_columns": null,
            "grid_auto_flow": null,
            "grid_auto_rows": null,
            "grid_column": null,
            "grid_gap": null,
            "grid_row": null,
            "grid_template_areas": null,
            "grid_template_columns": null,
            "grid_template_rows": null,
            "height": null,
            "justify_content": null,
            "justify_items": null,
            "left": null,
            "margin": null,
            "max_height": null,
            "max_width": null,
            "min_height": null,
            "min_width": null,
            "object_fit": null,
            "object_position": null,
            "order": null,
            "overflow": null,
            "overflow_x": null,
            "overflow_y": null,
            "padding": null,
            "right": null,
            "top": null,
            "visibility": null,
            "width": null
          }
        },
        "0f00ac4f2a454b7bab9b81efe996f8c1": {
          "model_module": "@jupyter-widgets/base",
          "model_name": "LayoutModel",
          "model_module_version": "1.2.0",
          "state": {
            "_model_module": "@jupyter-widgets/base",
            "_model_module_version": "1.2.0",
            "_model_name": "LayoutModel",
            "_view_count": null,
            "_view_module": "@jupyter-widgets/base",
            "_view_module_version": "1.2.0",
            "_view_name": "LayoutView",
            "align_content": null,
            "align_items": null,
            "align_self": null,
            "border": null,
            "bottom": null,
            "display": null,
            "flex": null,
            "flex_flow": null,
            "grid_area": null,
            "grid_auto_columns": null,
            "grid_auto_flow": null,
            "grid_auto_rows": null,
            "grid_column": null,
            "grid_gap": null,
            "grid_row": null,
            "grid_template_areas": null,
            "grid_template_columns": null,
            "grid_template_rows": null,
            "height": null,
            "justify_content": null,
            "justify_items": null,
            "left": null,
            "margin": null,
            "max_height": null,
            "max_width": null,
            "min_height": null,
            "min_width": null,
            "object_fit": null,
            "object_position": null,
            "order": null,
            "overflow": null,
            "overflow_x": null,
            "overflow_y": null,
            "padding": null,
            "right": null,
            "top": null,
            "visibility": null,
            "width": null
          }
        },
        "9d7d915d8b2e486895081992856161fa": {
          "model_module": "@jupyter-widgets/controls",
          "model_name": "DescriptionStyleModel",
          "model_module_version": "1.5.0",
          "state": {
            "_model_module": "@jupyter-widgets/controls",
            "_model_module_version": "1.5.0",
            "_model_name": "DescriptionStyleModel",
            "_view_count": null,
            "_view_module": "@jupyter-widgets/base",
            "_view_module_version": "1.2.0",
            "_view_name": "StyleView",
            "description_width": ""
          }
        },
        "e4e4275aecac4e2098523e205b1fda01": {
          "model_module": "@jupyter-widgets/base",
          "model_name": "LayoutModel",
          "model_module_version": "1.2.0",
          "state": {
            "_model_module": "@jupyter-widgets/base",
            "_model_module_version": "1.2.0",
            "_model_name": "LayoutModel",
            "_view_count": null,
            "_view_module": "@jupyter-widgets/base",
            "_view_module_version": "1.2.0",
            "_view_name": "LayoutView",
            "align_content": null,
            "align_items": null,
            "align_self": null,
            "border": null,
            "bottom": null,
            "display": null,
            "flex": null,
            "flex_flow": null,
            "grid_area": null,
            "grid_auto_columns": null,
            "grid_auto_flow": null,
            "grid_auto_rows": null,
            "grid_column": null,
            "grid_gap": null,
            "grid_row": null,
            "grid_template_areas": null,
            "grid_template_columns": null,
            "grid_template_rows": null,
            "height": null,
            "justify_content": null,
            "justify_items": null,
            "left": null,
            "margin": null,
            "max_height": null,
            "max_width": null,
            "min_height": null,
            "min_width": null,
            "object_fit": null,
            "object_position": null,
            "order": null,
            "overflow": null,
            "overflow_x": null,
            "overflow_y": null,
            "padding": null,
            "right": null,
            "top": null,
            "visibility": null,
            "width": null
          }
        },
        "d437364fe6d84b53b7643416b135f795": {
          "model_module": "@jupyter-widgets/controls",
          "model_name": "ProgressStyleModel",
          "model_module_version": "1.5.0",
          "state": {
            "_model_module": "@jupyter-widgets/controls",
            "_model_module_version": "1.5.0",
            "_model_name": "ProgressStyleModel",
            "_view_count": null,
            "_view_module": "@jupyter-widgets/base",
            "_view_module_version": "1.2.0",
            "_view_name": "StyleView",
            "bar_color": null,
            "description_width": ""
          }
        },
        "4673e55656ae421f860961938b00e024": {
          "model_module": "@jupyter-widgets/base",
          "model_name": "LayoutModel",
          "model_module_version": "1.2.0",
          "state": {
            "_model_module": "@jupyter-widgets/base",
            "_model_module_version": "1.2.0",
            "_model_name": "LayoutModel",
            "_view_count": null,
            "_view_module": "@jupyter-widgets/base",
            "_view_module_version": "1.2.0",
            "_view_name": "LayoutView",
            "align_content": null,
            "align_items": null,
            "align_self": null,
            "border": null,
            "bottom": null,
            "display": null,
            "flex": null,
            "flex_flow": null,
            "grid_area": null,
            "grid_auto_columns": null,
            "grid_auto_flow": null,
            "grid_auto_rows": null,
            "grid_column": null,
            "grid_gap": null,
            "grid_row": null,
            "grid_template_areas": null,
            "grid_template_columns": null,
            "grid_template_rows": null,
            "height": null,
            "justify_content": null,
            "justify_items": null,
            "left": null,
            "margin": null,
            "max_height": null,
            "max_width": null,
            "min_height": null,
            "min_width": null,
            "object_fit": null,
            "object_position": null,
            "order": null,
            "overflow": null,
            "overflow_x": null,
            "overflow_y": null,
            "padding": null,
            "right": null,
            "top": null,
            "visibility": null,
            "width": null
          }
        },
        "70dd795e89994bf78a291697fc4fd8cf": {
          "model_module": "@jupyter-widgets/controls",
          "model_name": "DescriptionStyleModel",
          "model_module_version": "1.5.0",
          "state": {
            "_model_module": "@jupyter-widgets/controls",
            "_model_module_version": "1.5.0",
            "_model_name": "DescriptionStyleModel",
            "_view_count": null,
            "_view_module": "@jupyter-widgets/base",
            "_view_module_version": "1.2.0",
            "_view_name": "StyleView",
            "description_width": ""
          }
        },
        "58ed0012aaaf40c5a7a90a2f1047dab9": {
          "model_module": "@jupyter-widgets/controls",
          "model_name": "HBoxModel",
          "model_module_version": "1.5.0",
          "state": {
            "_dom_classes": [],
            "_model_module": "@jupyter-widgets/controls",
            "_model_module_version": "1.5.0",
            "_model_name": "HBoxModel",
            "_view_count": null,
            "_view_module": "@jupyter-widgets/controls",
            "_view_module_version": "1.5.0",
            "_view_name": "HBoxView",
            "box_style": "",
            "children": [
              "IPY_MODEL_39f72922e0754dd58d7537985bcce1f7",
              "IPY_MODEL_4d85a20d2f404c5b99e6b07136353991",
              "IPY_MODEL_4a393c62f02b4f518e4f398d61fe0559"
            ],
            "layout": "IPY_MODEL_28069698c7bd4f86aff8a728a36e6658"
          }
        },
        "39f72922e0754dd58d7537985bcce1f7": {
          "model_module": "@jupyter-widgets/controls",
          "model_name": "HTMLModel",
          "model_module_version": "1.5.0",
          "state": {
            "_dom_classes": [],
            "_model_module": "@jupyter-widgets/controls",
            "_model_module_version": "1.5.0",
            "_model_name": "HTMLModel",
            "_view_count": null,
            "_view_module": "@jupyter-widgets/controls",
            "_view_module_version": "1.5.0",
            "_view_name": "HTMLView",
            "description": "",
            "description_tooltip": null,
            "layout": "IPY_MODEL_45b1e3aa9637444c9cf569ce6f6eecb3",
            "placeholder": "​",
            "style": "IPY_MODEL_13b29d5746be46a4b993ef936504504d",
            "value": "parsing log, completed traces :: 100%"
          }
        },
        "4d85a20d2f404c5b99e6b07136353991": {
          "model_module": "@jupyter-widgets/controls",
          "model_name": "FloatProgressModel",
          "model_module_version": "1.5.0",
          "state": {
            "_dom_classes": [],
            "_model_module": "@jupyter-widgets/controls",
            "_model_module_version": "1.5.0",
            "_model_name": "FloatProgressModel",
            "_view_count": null,
            "_view_module": "@jupyter-widgets/controls",
            "_view_module_version": "1.5.0",
            "_view_name": "ProgressView",
            "bar_style": "success",
            "description": "",
            "description_tooltip": null,
            "layout": "IPY_MODEL_089c34fb652c4306adadec70761bdd26",
            "max": 2,
            "min": 0,
            "orientation": "horizontal",
            "style": "IPY_MODEL_6ccb528e9d0c448b8e3bcd79cdd7b191",
            "value": 2
          }
        },
        "4a393c62f02b4f518e4f398d61fe0559": {
          "model_module": "@jupyter-widgets/controls",
          "model_name": "HTMLModel",
          "model_module_version": "1.5.0",
          "state": {
            "_dom_classes": [],
            "_model_module": "@jupyter-widgets/controls",
            "_model_module_version": "1.5.0",
            "_model_name": "HTMLModel",
            "_view_count": null,
            "_view_module": "@jupyter-widgets/controls",
            "_view_module_version": "1.5.0",
            "_view_name": "HTMLView",
            "description": "",
            "description_tooltip": null,
            "layout": "IPY_MODEL_3fd7f15929c54cf19fc3b8a44efce831",
            "placeholder": "​",
            "style": "IPY_MODEL_99a892ab9fb34f78b43f54d9c7cc6492",
            "value": " 2/2 [00:00&lt;00:00, 64.38it/s]"
          }
        },
        "28069698c7bd4f86aff8a728a36e6658": {
          "model_module": "@jupyter-widgets/base",
          "model_name": "LayoutModel",
          "model_module_version": "1.2.0",
          "state": {
            "_model_module": "@jupyter-widgets/base",
            "_model_module_version": "1.2.0",
            "_model_name": "LayoutModel",
            "_view_count": null,
            "_view_module": "@jupyter-widgets/base",
            "_view_module_version": "1.2.0",
            "_view_name": "LayoutView",
            "align_content": null,
            "align_items": null,
            "align_self": null,
            "border": null,
            "bottom": null,
            "display": null,
            "flex": null,
            "flex_flow": null,
            "grid_area": null,
            "grid_auto_columns": null,
            "grid_auto_flow": null,
            "grid_auto_rows": null,
            "grid_column": null,
            "grid_gap": null,
            "grid_row": null,
            "grid_template_areas": null,
            "grid_template_columns": null,
            "grid_template_rows": null,
            "height": null,
            "justify_content": null,
            "justify_items": null,
            "left": null,
            "margin": null,
            "max_height": null,
            "max_width": null,
            "min_height": null,
            "min_width": null,
            "object_fit": null,
            "object_position": null,
            "order": null,
            "overflow": null,
            "overflow_x": null,
            "overflow_y": null,
            "padding": null,
            "right": null,
            "top": null,
            "visibility": null,
            "width": null
          }
        },
        "45b1e3aa9637444c9cf569ce6f6eecb3": {
          "model_module": "@jupyter-widgets/base",
          "model_name": "LayoutModel",
          "model_module_version": "1.2.0",
          "state": {
            "_model_module": "@jupyter-widgets/base",
            "_model_module_version": "1.2.0",
            "_model_name": "LayoutModel",
            "_view_count": null,
            "_view_module": "@jupyter-widgets/base",
            "_view_module_version": "1.2.0",
            "_view_name": "LayoutView",
            "align_content": null,
            "align_items": null,
            "align_self": null,
            "border": null,
            "bottom": null,
            "display": null,
            "flex": null,
            "flex_flow": null,
            "grid_area": null,
            "grid_auto_columns": null,
            "grid_auto_flow": null,
            "grid_auto_rows": null,
            "grid_column": null,
            "grid_gap": null,
            "grid_row": null,
            "grid_template_areas": null,
            "grid_template_columns": null,
            "grid_template_rows": null,
            "height": null,
            "justify_content": null,
            "justify_items": null,
            "left": null,
            "margin": null,
            "max_height": null,
            "max_width": null,
            "min_height": null,
            "min_width": null,
            "object_fit": null,
            "object_position": null,
            "order": null,
            "overflow": null,
            "overflow_x": null,
            "overflow_y": null,
            "padding": null,
            "right": null,
            "top": null,
            "visibility": null,
            "width": null
          }
        },
        "13b29d5746be46a4b993ef936504504d": {
          "model_module": "@jupyter-widgets/controls",
          "model_name": "DescriptionStyleModel",
          "model_module_version": "1.5.0",
          "state": {
            "_model_module": "@jupyter-widgets/controls",
            "_model_module_version": "1.5.0",
            "_model_name": "DescriptionStyleModel",
            "_view_count": null,
            "_view_module": "@jupyter-widgets/base",
            "_view_module_version": "1.2.0",
            "_view_name": "StyleView",
            "description_width": ""
          }
        },
        "089c34fb652c4306adadec70761bdd26": {
          "model_module": "@jupyter-widgets/base",
          "model_name": "LayoutModel",
          "model_module_version": "1.2.0",
          "state": {
            "_model_module": "@jupyter-widgets/base",
            "_model_module_version": "1.2.0",
            "_model_name": "LayoutModel",
            "_view_count": null,
            "_view_module": "@jupyter-widgets/base",
            "_view_module_version": "1.2.0",
            "_view_name": "LayoutView",
            "align_content": null,
            "align_items": null,
            "align_self": null,
            "border": null,
            "bottom": null,
            "display": null,
            "flex": null,
            "flex_flow": null,
            "grid_area": null,
            "grid_auto_columns": null,
            "grid_auto_flow": null,
            "grid_auto_rows": null,
            "grid_column": null,
            "grid_gap": null,
            "grid_row": null,
            "grid_template_areas": null,
            "grid_template_columns": null,
            "grid_template_rows": null,
            "height": null,
            "justify_content": null,
            "justify_items": null,
            "left": null,
            "margin": null,
            "max_height": null,
            "max_width": null,
            "min_height": null,
            "min_width": null,
            "object_fit": null,
            "object_position": null,
            "order": null,
            "overflow": null,
            "overflow_x": null,
            "overflow_y": null,
            "padding": null,
            "right": null,
            "top": null,
            "visibility": null,
            "width": null
          }
        },
        "6ccb528e9d0c448b8e3bcd79cdd7b191": {
          "model_module": "@jupyter-widgets/controls",
          "model_name": "ProgressStyleModel",
          "model_module_version": "1.5.0",
          "state": {
            "_model_module": "@jupyter-widgets/controls",
            "_model_module_version": "1.5.0",
            "_model_name": "ProgressStyleModel",
            "_view_count": null,
            "_view_module": "@jupyter-widgets/base",
            "_view_module_version": "1.2.0",
            "_view_name": "StyleView",
            "bar_color": null,
            "description_width": ""
          }
        },
        "3fd7f15929c54cf19fc3b8a44efce831": {
          "model_module": "@jupyter-widgets/base",
          "model_name": "LayoutModel",
          "model_module_version": "1.2.0",
          "state": {
            "_model_module": "@jupyter-widgets/base",
            "_model_module_version": "1.2.0",
            "_model_name": "LayoutModel",
            "_view_count": null,
            "_view_module": "@jupyter-widgets/base",
            "_view_module_version": "1.2.0",
            "_view_name": "LayoutView",
            "align_content": null,
            "align_items": null,
            "align_self": null,
            "border": null,
            "bottom": null,
            "display": null,
            "flex": null,
            "flex_flow": null,
            "grid_area": null,
            "grid_auto_columns": null,
            "grid_auto_flow": null,
            "grid_auto_rows": null,
            "grid_column": null,
            "grid_gap": null,
            "grid_row": null,
            "grid_template_areas": null,
            "grid_template_columns": null,
            "grid_template_rows": null,
            "height": null,
            "justify_content": null,
            "justify_items": null,
            "left": null,
            "margin": null,
            "max_height": null,
            "max_width": null,
            "min_height": null,
            "min_width": null,
            "object_fit": null,
            "object_position": null,
            "order": null,
            "overflow": null,
            "overflow_x": null,
            "overflow_y": null,
            "padding": null,
            "right": null,
            "top": null,
            "visibility": null,
            "width": null
          }
        },
        "99a892ab9fb34f78b43f54d9c7cc6492": {
          "model_module": "@jupyter-widgets/controls",
          "model_name": "DescriptionStyleModel",
          "model_module_version": "1.5.0",
          "state": {
            "_model_module": "@jupyter-widgets/controls",
            "_model_module_version": "1.5.0",
            "_model_name": "DescriptionStyleModel",
            "_view_count": null,
            "_view_module": "@jupyter-widgets/base",
            "_view_module_version": "1.2.0",
            "_view_name": "StyleView",
            "description_width": ""
          }
        }
      }
    }
  },
  "nbformat": 4,
  "nbformat_minor": 0
}