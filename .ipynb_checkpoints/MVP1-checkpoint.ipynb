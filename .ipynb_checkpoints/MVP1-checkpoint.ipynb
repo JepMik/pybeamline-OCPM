{
 "cells": [
  {
   "metadata": {},
   "cell_type": "markdown",
   "source": [
    "# MVP 1: Baseline Object-Centric Event Stream Processing with Offline Discovery\n",
    "## This notebook show functionalities of the first MVP of the project, which focuses on offline discovery of object-centric event streams.\n",
    "\n",
    "Key changes:\n",
    "1. `sources/` now accommodates .jsonocel files\n",
    "2. `boevent.py` is a beamline object event that represents a single object-centric event in a stream.\n",
    "3. `abstractevent.py` is an abstract base class for events, defining the interface for event objects as similariies between the two event types exists."
   ],
   "id": "43d43d8d56ce73b6"
  },
  {
   "metadata": {
    "ExecuteTime": {
     "end_time": "2025-03-30T21:12:35.403626Z",
     "start_time": "2025-03-30T21:12:35.396962Z"
    }
   },
   "cell_type": "code",
   "source": [
    "import importlib\n",
    "import pybeamline  # replace with your module name\n",
    "importlib.reload(pybeamline)\n",
    "\n",
    "import uuid\n",
    "from pm4py import OCEL, ocel_sort_by_additional_column, discover_ocdfg, read_ocel2, read_ocel2_json, \\\n",
    "    discover_oc_petri_net, view_ocpn\n",
    "from reactivex.operators import window_with_count, flat_map, to_list\n",
    "from reactivex import operators as ops\n",
    "from pm4py.algo.discovery.ocel.ocdfg import algorithm as ocdfg_discovery\n",
    "from pm4py.objects.ocel.obj import OCEL\n",
    "from pm4py.algo.discovery.ocel.ocpn import algorithm as ocpn_discovery\n",
    "from pybeamline.mappers import sliding_window_to_log\n",
    "from pybeamline.sources.ocel_json_log_source import ocel_json_log_source_from_file\n",
    "import pandas as pd\n",
    "from pandas import DataFrame\n"
   ],
   "id": "c0d3583f245ac405",
   "outputs": [],
   "execution_count": 19
  },
  {
   "metadata": {
    "ExecuteTime": {
     "end_time": "2025-03-30T21:12:53.106842Z",
     "start_time": "2025-03-30T21:12:51.366297Z"
    }
   },
   "cell_type": "code",
   "source": [
    "# Load jsonocel file\n",
    "log_source = ocel_json_log_source_from_file('tests/ocel.jsonocel')\n",
    "\n",
    "# only print first 10 events\n",
    "i = 0\n",
    "def print_event(event):\n",
    "    global i\n",
    "    if i < 10:\n",
    "        print(event)\n",
    "        i += 1\n",
    "    else:\n",
    "        return False\n",
    "\n",
    "log_source.pipe().subscribe(\n",
    "    lambda x: print_event(x)\n",
    ")\n"
   ],
   "id": "ae313b9e89d6701b",
   "outputs": [
    {
     "ename": "NameError",
     "evalue": "name 'pd' is not defined",
     "output_type": "error",
     "traceback": [
      "\u001B[31m---------------------------------------------------------------------------\u001B[39m",
      "\u001B[31mNameError\u001B[39m                                 Traceback (most recent call last)",
      "\u001B[36mCell\u001B[39m\u001B[36m \u001B[39m\u001B[32mIn[21]\u001B[39m\u001B[32m, line 2\u001B[39m\n\u001B[32m      1\u001B[39m \u001B[38;5;66;03m# Load jsonocel file\u001B[39;00m\n\u001B[32m----> \u001B[39m\u001B[32m2\u001B[39m log_source = \u001B[43mocel_json_log_source_from_file\u001B[49m\u001B[43m(\u001B[49m\u001B[33;43m'\u001B[39;49m\u001B[33;43mtests/ocel.jsonocel\u001B[39;49m\u001B[33;43m'\u001B[39;49m\u001B[43m)\u001B[49m\n\u001B[32m      4\u001B[39m \u001B[38;5;66;03m# only print first 10 events\u001B[39;00m\n\u001B[32m      5\u001B[39m i = \u001B[32m0\u001B[39m\n",
      "\u001B[36mFile \u001B[39m\u001B[32m~\\OneDrive\\Skrivebord\\Git\\pybeamline-OCPM\\pybeamline\\sources\\ocel_json_log_source.py:11\u001B[39m, in \u001B[36mocel_json_log_source_from_file\u001B[39m\u001B[34m(log_path)\u001B[39m\n\u001B[32m      7\u001B[39m \u001B[38;5;28;01mdef\u001B[39;00m\u001B[38;5;250m \u001B[39m\u001B[34mocel_json_log_source_from_file\u001B[39m(log_path: \u001B[38;5;28mstr\u001B[39m) -> Observable[BOEvent]:\n\u001B[32m      8\u001B[39m \u001B[38;5;250m    \u001B[39m\u001B[33;03m\"\"\"\u001B[39;00m\n\u001B[32m      9\u001B[39m \u001B[33;03m    Loads an OCEL 2.0 JSON log from a file path and returns it as an Observable of BOEvent objects.\u001B[39;00m\n\u001B[32m     10\u001B[39m \u001B[33;03m    \"\"\"\u001B[39;00m\n\u001B[32m---> \u001B[39m\u001B[32m11\u001B[39m     \u001B[38;5;28;01mreturn\u001B[39;00m \u001B[43mocel_json_log_source\u001B[49m\u001B[43m(\u001B[49m\u001B[43mread_ocel2_json\u001B[49m\u001B[43m(\u001B[49m\u001B[43mlog_path\u001B[49m\u001B[43m)\u001B[49m\u001B[43m)\u001B[49m\n",
      "\u001B[36mFile \u001B[39m\u001B[32m~\\OneDrive\\Skrivebord\\Git\\pybeamline-OCPM\\pybeamline\\sources\\ocel_json_log_source.py:22\u001B[39m, in \u001B[36mocel_json_log_source\u001B[39m\u001B[34m(log, scheduler)\u001B[39m\n\u001B[32m     14\u001B[39m \u001B[38;5;28;01mdef\u001B[39;00m\u001B[38;5;250m \u001B[39m\u001B[34mocel_json_log_source\u001B[39m(\n\u001B[32m     15\u001B[39m     log: OCEL,\n\u001B[32m     16\u001B[39m     scheduler: Optional[abc.SchedulerBase] = \u001B[38;5;28;01mNone\u001B[39;00m\n\u001B[32m     17\u001B[39m ) -> Observable[BOEvent]:\n\u001B[32m     18\u001B[39m \u001B[38;5;250m    \u001B[39m\u001B[33;03m\"\"\"\u001B[39;00m\n\u001B[32m     19\u001B[39m \u001B[33;03m    Converts an OCEL object into an Observable stream of BOEvent objects,\u001B[39;00m\n\u001B[32m     20\u001B[39m \u001B[33;03m    ordered by timestamp if available.\u001B[39;00m\n\u001B[32m     21\u001B[39m \u001B[33;03m    \"\"\"\u001B[39;00m\n\u001B[32m---> \u001B[39m\u001B[32m22\u001B[39m     \u001B[38;5;28;01mif\u001B[39;00m \u001B[38;5;28mtype\u001B[39m(log) \u001B[38;5;129;01mis\u001B[39;00m \u001B[38;5;129;01mnot\u001B[39;00m \u001B[43mpd\u001B[49m.DataFrame:\n\u001B[32m     23\u001B[39m         log = convert_to_dataframe(log)\n\u001B[32m     24\u001B[39m     \u001B[38;5;28;01mif\u001B[39;00m log.event_timestamp \u001B[38;5;129;01mis\u001B[39;00m \u001B[38;5;129;01mnot\u001B[39;00m \u001B[38;5;28;01mNone\u001B[39;00m:\n",
      "\u001B[31mNameError\u001B[39m: name 'pd' is not defined"
     ]
    }
   ],
   "execution_count": 21
  }
 ],
 "metadata": {
  "kernelspec": {
   "display_name": "Python 3",
   "language": "python",
   "name": "python3"
  },
  "language_info": {
   "codemirror_mode": {
    "name": "ipython",
    "version": 2
   },
   "file_extension": ".py",
   "mimetype": "text/x-python",
   "name": "python",
   "nbconvert_exporter": "python",
   "pygments_lexer": "ipython2",
   "version": "2.7.6"
  }
 },
 "nbformat": 4,
 "nbformat_minor": 5
}
