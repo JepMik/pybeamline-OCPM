{
 "cells": [
  {
   "cell_type": "code",
   "execution_count": null,
   "id": "initial_id",
   "metadata": {
    "collapsed": true
   },
   "outputs": [],
   "source": [
    "import importlib\n",
    "import pybeamline  # replace with your module name\n",
    "from pybeamline.mappers.sliding_window_to_ocel import log_to_ocel_operator\n",
    "importlib.reload(pybeamline)\n",
    "from pm4py import view_ocpn, view_ocdfg\n",
    "from reactivex.operators import window_with_count\n",
    "from reactivex import operators as ops\n",
    "from pm4py.algo.discovery.ocel.ocdfg import algorithm as ocdfg_discovery\n",
    "from pm4py.algo.discovery.ocel.ocpn import algorithm as ocpn_discovery\n",
    "from pybeamline.mappers import sliding_window_to_log\n",
    "from pybeamline.sources.ocel_json_log_source import ocel_json_log_source_from_file\n"
   ]
  }
 ],
 "metadata": {
  "kernelspec": {
   "display_name": "Python 3",
   "language": "python",
   "name": "python3"
  },
  "language_info": {
   "codemirror_mode": {
    "name": "ipython",
    "version": 2
   },
   "file_extension": ".py",
   "mimetype": "text/x-python",
   "name": "python",
   "nbconvert_exporter": "python",
   "pygments_lexer": "ipython2",
   "version": "2.7.6"
  }
 },
 "nbformat": 4,
 "nbformat_minor": 5
}
